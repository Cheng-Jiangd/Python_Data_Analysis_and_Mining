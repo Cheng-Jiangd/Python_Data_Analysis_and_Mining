{
 "cells": [
  {
   "cell_type": "markdown",
   "metadata": {},
   "source": [
    "## Section 1"
   ]
  },
  {
   "cell_type": "code",
   "execution_count": 2,
   "metadata": {},
   "outputs": [
    {
     "name": "stdout",
     "output_type": "stream",
     "text": [
      "/Users/jiangcheng/Desktop/Junior_Semester2/Data_Analysis_based_on_Python/labs/lab01\n"
     ]
    }
   ],
   "source": [
    "import os\n",
    "print(os.getcwd())"
   ]
  },
  {
   "cell_type": "code",
   "execution_count": 8,
   "metadata": {},
   "outputs": [
    {
     "name": "stdout",
     "output_type": "stream",
     "text": [
      "2 3 4 3.0\n",
      "I am a teacher \n",
      " I am a teacher too\n"
     ]
    }
   ],
   "source": [
    "a, b, c = 2, 3, 4\n",
    "f = float(a) + 1\n",
    "print(a, b, c, f)\n",
    "\n",
    "d = 'I am a teacher'\n",
    "e = d + ' too'\n",
    "print(d, '\\n', e)"
   ]
  },
  {
   "cell_type": "code",
   "execution_count": 10,
   "metadata": {},
   "outputs": [
    {
     "name": "stdout",
     "output_type": "stream",
     "text": [
      "False\n",
      "True\n",
      "0\n"
     ]
    }
   ],
   "source": [
    "print(bool(False))\n",
    "print(False==0)\n",
    "print((not 5) or (0 and 3))"
   ]
  },
  {
   "cell_type": "code",
   "execution_count": 12,
   "metadata": {},
   "outputs": [
    {
     "name": "stdout",
     "output_type": "stream",
     "text": [
      "g equals 1\n",
      "g equals 1\n",
      "g equals 1\n",
      "g equals 1\n"
     ]
    }
   ],
   "source": [
    "g = 1\n",
    "if g == 1:\n",
    "  print(\"g equals 1\")\n",
    "\n",
    "if g == 1:\n",
    "  print(\"g equals 1\")\n",
    "else:\n",
    "  print(\"g is not 1\")\n",
    "\n",
    "result = \"g equals 1\" if g == 1 else \"g is not 1\"\n",
    "print(result)\n",
    "\n",
    "if g < 1:\n",
    "  print(\"g is smaller than 1\")\n",
    "elif g > 1:\n",
    "  print(\"g is greater than 1\")\n",
    "else:\n",
    "  print(\"g equals 1\")"
   ]
  },
  {
   "cell_type": "code",
   "execution_count": 13,
   "metadata": {},
   "outputs": [
    {
     "name": "stdout",
     "output_type": "stream",
     "text": [
      "你太棒了！\n",
      "继续加油\n",
      "你太棒了！\n",
      "你太棒了！\n",
      "恭喜你，已经坚持了3天！！\n",
      "3\n"
     ]
    }
   ],
   "source": [
    "day = 1\n",
    "while day <=3:\n",
    "  a = input('你今天学习数据分析课程了吗？')\n",
    "  if a == \"是的\":\n",
    "    print(\"你太棒了！\")\n",
    "  elif a == \"一般\":\n",
    "    print(\"继续加油\")\n",
    "    continue\n",
    "  else:\n",
    "    print('不好意思，你失败了！')\n",
    "    break\n",
    "  day += 1\n",
    "else:\n",
    "  print('恭喜你，已经坚持了3天！！')\n",
    "print(day - 1)"
   ]
  },
  {
   "cell_type": "code",
   "execution_count": 16,
   "metadata": {},
   "outputs": [
    {
     "name": "stdout",
     "output_type": "stream",
     "text": [
      "210\n",
      "[2, 4, 6, 8, 10]\n"
     ]
    }
   ],
   "source": [
    "s = 0\n",
    "for k in range(1, 21):\n",
    "  s += k\n",
    "print(s)\n",
    "\n",
    "z = []\n",
    "z = [x for x in range(1, 11) if x % 2 == 0]\n",
    "print(z)"
   ]
  },
  {
   "cell_type": "code",
   "execution_count": 36,
   "metadata": {},
   "outputs": [
    {
     "name": "stdout",
     "output_type": "stream",
     "text": [
      "[3, 2] \n",
      " 3 \n",
      " 2\n"
     ]
    }
   ],
   "source": [
    "def func1(x, y = 0):\n",
    "  return [x + 2, y + 2]\n",
    "y = func1(1,)\n",
    "a, b = func1(1,)\n",
    "print(y, '\\n', a, '\\n', b)"
   ]
  },
  {
   "cell_type": "code",
   "execution_count": 18,
   "metadata": {},
   "outputs": [
    {
     "name": "stdout",
     "output_type": "stream",
     "text": [
      "3 3\n"
     ]
    }
   ],
   "source": [
    "f = lambda x : x + 2\n",
    "g = lambda x, y : x + y\n",
    "a = f(1)\n",
    "b = g(1, 2)\n",
    "print(a, b)"
   ]
  },
  {
   "cell_type": "code",
   "execution_count": 30,
   "metadata": {},
   "outputs": [
    {
     "name": "stdout",
     "output_type": "stream",
     "text": [
      "[1, 'abc', 34] (1, 'abc', 34)\n",
      "[1, 2, 34]\n"
     ]
    }
   ],
   "source": [
    "a = [1, 'abc', 34]\n",
    "b = (1, 'abc', 34)\n",
    "print(a, b)\n",
    "a[1] = 2\n",
    "print(a)"
   ]
  },
  {
   "cell_type": "code",
   "execution_count": 32,
   "metadata": {},
   "outputs": [
    {
     "name": "stdout",
     "output_type": "stream",
     "text": [
      "[1, 2, 34]\n"
     ]
    }
   ],
   "source": [
    "a[1] = 2\n",
    "print(a)"
   ]
  },
  {
   "cell_type": "code",
   "execution_count": 21,
   "metadata": {},
   "outputs": [
    {
     "name": "stdout",
     "output_type": "stream",
     "text": [
      "[1, 'abc', 34]\n",
      "[1, 2, 34] [1, 2, 34]\n",
      "[2, 2, 34] [1, 2, 34]\n"
     ]
    }
   ],
   "source": [
    "a = [1, 'abc', 34]\n",
    "c = a\n",
    "print(c)\n",
    "a[1] = 2\n",
    "print(a, c)\n",
    "c = a.copy()\n",
    "a[0] = 2\n",
    "print(a, c)"
   ]
  },
  {
   "cell_type": "code",
   "execution_count": 24,
   "metadata": {},
   "outputs": [
    {
     "name": "stdout",
     "output_type": "stream",
     "text": [
      "[1, 4, 34, 1, 2, 3]\n",
      "[2, 6, 37]\n"
     ]
    }
   ],
   "source": [
    "a = [1, 4, 34]\n",
    "b = [1, 2, 3]\n",
    "c = a + b\n",
    "print(c)\n",
    "result = [a[i] + b[i] for i in range(3)]\n",
    "print(result)"
   ]
  },
  {
   "cell_type": "code",
   "execution_count": 25,
   "metadata": {},
   "outputs": [
    {
     "name": "stdout",
     "output_type": "stream",
     "text": [
      "34 34\n"
     ]
    }
   ],
   "source": [
    "a = [1, 4, 34]\n",
    "b = (1, 4, 34)\n",
    "d = max(a)\n",
    "e = max(b)\n",
    "print(d, e)"
   ]
  },
  {
   "cell_type": "code",
   "execution_count": 26,
   "metadata": {},
   "outputs": [
    {
     "name": "stdout",
     "output_type": "stream",
     "text": [
      "[3, 4, 5]\n",
      "[3, 4, 5]\n"
     ]
    }
   ],
   "source": [
    "a = [1, 2, 3]\n",
    "b = [i + 2 for i in a]\n",
    "print(b)\n",
    "b = []\n",
    "for i in a:\n",
    "  b.append(i + 2)\n",
    "print(b)"
   ]
  },
  {
   "cell_type": "markdown",
   "metadata": {},
   "source": [
    "# Section 2"
   ]
  },
  {
   "cell_type": "code",
   "execution_count": 27,
   "metadata": {},
   "outputs": [],
   "source": [
    "import math\n",
    "import numpy as np\n",
    "from matplotlib import pyplot as plt\n",
    "import pandas as pd"
   ]
  },
  {
   "cell_type": "code",
   "execution_count": 28,
   "metadata": {},
   "outputs": [
    {
     "name": "stdout",
     "output_type": "stream",
     "text": [
      "<class 'numpy.ndarray'>\n",
      "[[[1 2]\n",
      "  [1 3]]\n",
      "\n",
      " [[1 2]\n",
      "  [1 3]]]\n"
     ]
    }
   ],
   "source": [
    "ar1 = np.array([[[1, 2], [1, 3]], [[1, 2], [1, 3]]])\n",
    "print(type(ar1))\n",
    "print(ar1)"
   ]
  },
  {
   "cell_type": "code",
   "execution_count": 29,
   "metadata": {},
   "outputs": [
    {
     "name": "stdout",
     "output_type": "stream",
     "text": [
      "[1, 2, '3', 4]\n",
      "['1' '2' '3' '4']\n"
     ]
    }
   ],
   "source": [
    "arL = [1, 2, '3', 4]\n",
    "art = np.array([1, 2, '3', 4])\n",
    "print(arL)\n",
    "print(art)"
   ]
  },
  {
   "cell_type": "code",
   "execution_count": 33,
   "metadata": {},
   "outputs": [
    {
     "name": "stdout",
     "output_type": "stream",
     "text": [
      "[['1.0' '2' '3']\n",
      " ['1' 'a' '3']] \n",
      " 2 \n",
      " (2, 3) \n",
      " 6 \n",
      " <U32\n"
     ]
    }
   ],
   "source": [
    "ar3 = np.array([[1., 2, 3], (1, \"a\", \"3\")])\n",
    "print(ar3, '\\n', ar3.ndim, '\\n', ar3.shape, '\\n', ar3.size, '\\n', ar3.dtype)"
   ]
  },
  {
   "cell_type": "code",
   "execution_count": 34,
   "metadata": {},
   "outputs": [
    {
     "name": "stdout",
     "output_type": "stream",
     "text": [
      "[0 1 2 3 4 5 6 7 8 9]\n",
      "[0 1 2 3 4 5 6 7 8 9]\n"
     ]
    }
   ],
   "source": [
    "ar4 = np.array(range(10))\n",
    "print(ar4)\n",
    "ar5 = np.arange(10)\n",
    "print(ar5)"
   ]
  },
  {
   "cell_type": "code",
   "execution_count": 35,
   "metadata": {},
   "outputs": [
    {
     "name": "stdout",
     "output_type": "stream",
     "text": [
      "[[0 1 2 3 4]\n",
      " [5 6 7 8 9]]\n",
      "[[10 11 12 13 14]\n",
      " [15 16 17 18 19]]\n",
      "[[ 0  2  4  6  8]\n",
      " [10 12 14 16 18]]\n"
     ]
    }
   ],
   "source": [
    "a1 = np.arange(10).reshape(2, 5)\n",
    "print(a1)\n",
    "ac = a1 + 10\n",
    "print(ac)\n",
    "ac = a1 * 2\n",
    "print(ac)"
   ]
  },
  {
   "cell_type": "code",
   "execution_count": 49,
   "metadata": {},
   "outputs": [
    {
     "name": "stdout",
     "output_type": "stream",
     "text": [
      "a1: [[0 1 2 3 4]\n",
      " [5 6 7 8 9]]\n",
      "a1 max: 9\n",
      "a1 max of each row: [4 9]\n",
      "a1 min: 0\n",
      "a1 mean 4.5\n",
      "a1 std: 2.8722813232690143\n",
      "a1 var: 8.25\n",
      "a1 sum of each raw: [10 35]\n",
      "sorted array [2, 5, 1, 6, 7]: [1 2 5 6 7]\n"
     ]
    }
   ],
   "source": [
    "a1 = np.arange(10).reshape(2,5)\n",
    "print('a1:', a1)\n",
    "print('a1 max:', a1.max())\n",
    "print('a1 max of each row:', np.max(a1, axis=1))\n",
    "print('a1 min:', a1.min())\n",
    "print('a1 mean', a1.mean())\n",
    "print('a1 std:', a1.std())\n",
    "print('a1 var:', a1.var())\n",
    "print('a1 sum of each raw:', np.sum(a1, axis=1))\n",
    "print('sorted array [2, 5, 1, 6, 7]:', np.sort(np.array([2, 5, 1, 6, 7])))"
   ]
  },
  {
   "cell_type": "code",
   "execution_count": 50,
   "metadata": {},
   "outputs": [
    {
     "ename": "ValueError",
     "evalue": "The truth value of an array with more than one element is ambiguous. Use a.any() or a.all()",
     "output_type": "error",
     "traceback": [
      "\u001b[0;31m---------------------------------------------------------------------------\u001b[0m",
      "\u001b[0;31mValueError\u001b[0m                                Traceback (most recent call last)",
      "\u001b[1;32m/Users/jiangcheng/Desktop/Junior_Semester2/Data_Analysis_based_on_Python/labs/lab01/lab01.ipynb Cell 24\u001b[0m line \u001b[0;36m1\n\u001b[0;32m----> <a href='vscode-notebook-cell:/Users/jiangcheng/Desktop/Junior_Semester2/Data_Analysis_based_on_Python/labs/lab01/lab01.ipynb#X34sZmlsZQ%3D%3D?line=0'>1</a>\u001b[0m \u001b[39mprint\u001b[39m(\u001b[39mmax\u001b[39;49m(a1))\n",
      "\u001b[0;31mValueError\u001b[0m: The truth value of an array with more than one element is ambiguous. Use a.any() or a.all()"
     ]
    }
   ],
   "source": [
    "# The difference with list\n",
    "print(max(a1))"
   ]
  },
  {
   "cell_type": "code",
   "execution_count": 51,
   "metadata": {},
   "outputs": [
    {
     "name": "stdout",
     "output_type": "stream",
     "text": [
      "[[1, 2, 3], [0, 3, 4], [2, 4, 1]]\n",
      "[2, 4, 1]\n"
     ]
    }
   ],
   "source": [
    "a1 = [[1, 2, 3], [0, 3, 4], [2, 4, 1]]\n",
    "print(a1)\n",
    "print(max(a1))"
   ]
  },
  {
   "cell_type": "code",
   "execution_count": 52,
   "metadata": {},
   "outputs": [
    {
     "name": "stdout",
     "output_type": "stream",
     "text": [
      "[[0 1 2 3 4]\n",
      " [5 6 7 8 9]]\n",
      "[5 6 7 8 9]\n",
      "0\n",
      "[7 8 9]\n"
     ]
    }
   ],
   "source": [
    "a1 = np.arange(10).reshape(2, 5)\n",
    "print(a1)\n",
    "b = a1[1]\n",
    "print(b)\n",
    "c = a1[0][0]\n",
    "print(c)\n",
    "d = a1[1, 2:5]\n",
    "print(d)"
   ]
  },
  {
   "cell_type": "code",
   "execution_count": 53,
   "metadata": {},
   "outputs": [
    {
     "data": {
      "text/html": [
       "<div>\n",
       "<style scoped>\n",
       "    .dataframe tbody tr th:only-of-type {\n",
       "        vertical-align: middle;\n",
       "    }\n",
       "\n",
       "    .dataframe tbody tr th {\n",
       "        vertical-align: top;\n",
       "    }\n",
       "\n",
       "    .dataframe thead th {\n",
       "        text-align: right;\n",
       "    }\n",
       "</style>\n",
       "<table border=\"1\" class=\"dataframe\">\n",
       "  <thead>\n",
       "    <tr style=\"text-align: right;\">\n",
       "      <th></th>\n",
       "      <th>1</th>\n",
       "      <th>2</th>\n",
       "      <th>3</th>\n",
       "    </tr>\n",
       "  </thead>\n",
       "  <tbody>\n",
       "    <tr>\n",
       "      <th>0</th>\n",
       "      <td>1</td>\n",
       "      <td>2</td>\n",
       "      <td>3</td>\n",
       "    </tr>\n",
       "    <tr>\n",
       "      <th>1</th>\n",
       "      <td>4</td>\n",
       "      <td>5</td>\n",
       "      <td>6</td>\n",
       "    </tr>\n",
       "    <tr>\n",
       "      <th>2</th>\n",
       "      <td>7</td>\n",
       "      <td>8</td>\n",
       "      <td>9</td>\n",
       "    </tr>\n",
       "    <tr>\n",
       "      <th>3</th>\n",
       "      <td>10</td>\n",
       "      <td>9</td>\n",
       "      <td>8</td>\n",
       "    </tr>\n",
       "    <tr>\n",
       "      <th>4</th>\n",
       "      <td>2</td>\n",
       "      <td>3</td>\n",
       "      <td>4</td>\n",
       "    </tr>\n",
       "  </tbody>\n",
       "</table>\n",
       "</div>"
      ],
      "text/plain": [
       "    1  2  3\n",
       "0   1  2  3\n",
       "1   4  5  6\n",
       "2   7  8  9\n",
       "3  10  9  8\n",
       "4   2  3  4"
      ]
     },
     "execution_count": 53,
     "metadata": {},
     "output_type": "execute_result"
    }
   ],
   "source": [
    "te1 = pd.DataFrame([[1, 2, 3], [4, 5, 6], [7, 8, 9], [10, 9, 8], [2, 3, 4], [7, 6, 5]],\n",
    "                   columns=[1, 2, 3])\n",
    "te1.head()"
   ]
  },
  {
   "cell_type": "code",
   "execution_count": 54,
   "metadata": {},
   "outputs": [
    {
     "data": {
      "text/html": [
       "<div>\n",
       "<style scoped>\n",
       "    .dataframe tbody tr th:only-of-type {\n",
       "        vertical-align: middle;\n",
       "    }\n",
       "\n",
       "    .dataframe tbody tr th {\n",
       "        vertical-align: top;\n",
       "    }\n",
       "\n",
       "    .dataframe thead th {\n",
       "        text-align: right;\n",
       "    }\n",
       "</style>\n",
       "<table border=\"1\" class=\"dataframe\">\n",
       "  <thead>\n",
       "    <tr style=\"text-align: right;\">\n",
       "      <th></th>\n",
       "      <th>1</th>\n",
       "      <th>2</th>\n",
       "      <th>3</th>\n",
       "    </tr>\n",
       "  </thead>\n",
       "  <tbody>\n",
       "    <tr>\n",
       "      <th>1</th>\n",
       "      <td>4</td>\n",
       "      <td>5</td>\n",
       "      <td>6</td>\n",
       "    </tr>\n",
       "    <tr>\n",
       "      <th>2</th>\n",
       "      <td>7</td>\n",
       "      <td>8</td>\n",
       "      <td>9</td>\n",
       "    </tr>\n",
       "    <tr>\n",
       "      <th>3</th>\n",
       "      <td>10</td>\n",
       "      <td>9</td>\n",
       "      <td>8</td>\n",
       "    </tr>\n",
       "    <tr>\n",
       "      <th>4</th>\n",
       "      <td>2</td>\n",
       "      <td>3</td>\n",
       "      <td>4</td>\n",
       "    </tr>\n",
       "    <tr>\n",
       "      <th>5</th>\n",
       "      <td>7</td>\n",
       "      <td>6</td>\n",
       "      <td>5</td>\n",
       "    </tr>\n",
       "  </tbody>\n",
       "</table>\n",
       "</div>"
      ],
      "text/plain": [
       "    1  2  3\n",
       "1   4  5  6\n",
       "2   7  8  9\n",
       "3  10  9  8\n",
       "4   2  3  4\n",
       "5   7  6  5"
      ]
     },
     "execution_count": 54,
     "metadata": {},
     "output_type": "execute_result"
    }
   ],
   "source": [
    "te1.tail()"
   ]
  },
  {
   "cell_type": "code",
   "execution_count": 55,
   "metadata": {},
   "outputs": [
    {
     "data": {
      "text/plain": [
       "dtype('int64')"
      ]
     },
     "execution_count": 55,
     "metadata": {},
     "output_type": "execute_result"
    }
   ],
   "source": [
    "te2 = np.array(te1)\n",
    "te2.dtype"
   ]
  },
  {
   "cell_type": "code",
   "execution_count": 56,
   "metadata": {},
   "outputs": [
    {
     "name": "stdout",
     "output_type": "stream",
     "text": [
      "[[ 1  2  3]\n",
      " [ 4  5  6]\n",
      " [ 7  8  9]\n",
      " [10  9  8]\n",
      " [ 2  3  4]\n",
      " [ 7  6  5]]\n"
     ]
    }
   ],
   "source": [
    "print(te2)"
   ]
  },
  {
   "cell_type": "code",
   "execution_count": 84,
   "metadata": {},
   "outputs": [
    {
     "data": {
      "text/html": [
       "<div>\n",
       "<style scoped>\n",
       "    .dataframe tbody tr th:only-of-type {\n",
       "        vertical-align: middle;\n",
       "    }\n",
       "\n",
       "    .dataframe tbody tr th {\n",
       "        vertical-align: top;\n",
       "    }\n",
       "\n",
       "    .dataframe thead th {\n",
       "        text-align: right;\n",
       "    }\n",
       "</style>\n",
       "<table border=\"1\" class=\"dataframe\">\n",
       "  <thead>\n",
       "    <tr style=\"text-align: right;\">\n",
       "      <th></th>\n",
       "      <th>身高</th>\n",
       "      <th>体重</th>\n",
       "    </tr>\n",
       "  </thead>\n",
       "  <tbody>\n",
       "    <tr>\n",
       "      <th>0</th>\n",
       "      <td>171</td>\n",
       "      <td>53</td>\n",
       "    </tr>\n",
       "    <tr>\n",
       "      <th>1</th>\n",
       "      <td>167</td>\n",
       "      <td>56</td>\n",
       "    </tr>\n",
       "    <tr>\n",
       "      <th>2</th>\n",
       "      <td>177</td>\n",
       "      <td>64</td>\n",
       "    </tr>\n",
       "    <tr>\n",
       "      <th>3</th>\n",
       "      <td>154</td>\n",
       "      <td>49</td>\n",
       "    </tr>\n",
       "    <tr>\n",
       "      <th>4</th>\n",
       "      <td>169</td>\n",
       "      <td>55</td>\n",
       "    </tr>\n",
       "    <tr>\n",
       "      <th>5</th>\n",
       "      <td>175</td>\n",
       "      <td>66</td>\n",
       "    </tr>\n",
       "    <tr>\n",
       "      <th>6</th>\n",
       "      <td>163</td>\n",
       "      <td>52</td>\n",
       "    </tr>\n",
       "    <tr>\n",
       "      <th>7</th>\n",
       "      <td>152</td>\n",
       "      <td>47</td>\n",
       "    </tr>\n",
       "    <tr>\n",
       "      <th>8</th>\n",
       "      <td>172</td>\n",
       "      <td>58</td>\n",
       "    </tr>\n",
       "    <tr>\n",
       "      <th>9</th>\n",
       "      <td>160</td>\n",
       "      <td>50</td>\n",
       "    </tr>\n",
       "  </tbody>\n",
       "</table>\n",
       "</div>"
      ],
      "text/plain": [
       "    身高  体重\n",
       "0  171  53\n",
       "1  167  56\n",
       "2  177  64\n",
       "3  154  49\n",
       "4  169  55\n",
       "5  175  66\n",
       "6  163  52\n",
       "7  152  47\n",
       "8  172  58\n",
       "9  160  50"
      ]
     },
     "execution_count": 84,
     "metadata": {},
     "output_type": "execute_result"
    }
   ],
   "source": [
    "import pandas as pd\n",
    "import numpy as np\n",
    "hw = pd.read_excel(\"height_weight.xlsx\")\n",
    "hw"
   ]
  },
  {
   "cell_type": "code",
   "execution_count": 85,
   "metadata": {},
   "outputs": [
    {
     "data": {
      "text/plain": [
       "array([[171,  53],\n",
       "       [167,  56],\n",
       "       [177,  64],\n",
       "       [154,  49],\n",
       "       [169,  55],\n",
       "       [175,  66],\n",
       "       [163,  52],\n",
       "       [152,  47],\n",
       "       [172,  58],\n",
       "       [160,  50]])"
      ]
     },
     "execution_count": 85,
     "metadata": {},
     "output_type": "execute_result"
    }
   ],
   "source": [
    "hwt = np.array(hw)\n",
    "hwt"
   ]
  },
  {
   "cell_type": "code",
   "execution_count": 86,
   "metadata": {},
   "outputs": [
    {
     "name": "stdout",
     "output_type": "stream",
     "text": [
      "[7 3 9 6 1 4 0 8 5 2]\n",
      "[[152  47]\n",
      " [154  49]\n",
      " [160  50]\n",
      " [163  52]\n",
      " [167  56]\n",
      " [169  55]\n",
      " [171  53]\n",
      " [172  58]\n",
      " [175  66]\n",
      " [177  64]]\n",
      "身高和体重最大为： [177  66]\n",
      "身高和体重最小为： [152  47]\n",
      "身高和体重均值为： [166.  55.]\n",
      "身高和体重标准差为： [8.11171992 5.91607978]\n",
      "身高和体重方差为： [65.8 35. ]\n"
     ]
    }
   ],
   "source": [
    "index = np.argsort(hwt[:,0])\n",
    "print(index)\n",
    "hwts = hwt[index]\n",
    "print(hwts)\n",
    "print(\"身高和体重最大为：\", np.max(hwt, axis=0))\n",
    "print(\"身高和体重最小为：\", np.min(hwt, axis=0))\n",
    "print(\"身高和体重均值为：\", np.mean(hwt, axis=0))\n",
    "print(\"身高和体重标准差为：\", np.std(hwt, axis=0))\n",
    "print(\"身高和体重方差为：\", np.var(hwt, axis=0))"
   ]
  },
  {
   "cell_type": "code",
   "execution_count": 100,
   "metadata": {},
   "outputs": [
    {
     "data": {
      "image/png": "[encoded data removed]",
      "text/plain": [
       "<Figure size 640x480 with 1 Axes>"
      ]
     },
     "metadata": {},
     "output_type": "display_data"
    },
    {
     "data": {
      "image/png": "[encoded data removed]",
      "text/plain": [
       "<Figure size 640x480 with 1 Axes>"
      ]
     },
     "metadata": {},
     "output_type": "display_data"
    }
   ],
   "source": [
    "from matplotlib import pyplot as plt\n",
    "plt.plot(hwts[:,0], hwts[:,1], 'b*')\n",
    "plt.ylabel('weight')\n",
    "plt.xlabel('height')\n",
    "plt.title('Women')\n",
    "plt.show()\n",
    "plt.plot(hwts[:,0], 'b', label = 'height')\n",
    "plt.plot(hwts[:,1], 'r', label = 'weight')\n",
    "plt.ylabel('Values')\n",
    "plt.xlabel('Number')\n",
    "plt.title('Women')\n",
    "plt.legend()\n",
    "plt.show()"
   ]
  }
 ],
 "metadata": {
  "kernelspec": {
   "display_name": "base",
   "language": "python",
   "name": "python3"
  },
  "language_info": {
   "codemirror_mode": {
    "name": "ipython",
    "version": 3
   },
   "file_extension": ".py",
   "mimetype": "text/x-python",
   "name": "python",
   "nbconvert_exporter": "python",
   "pygments_lexer": "ipython3",
   "version": "3.11.5"
  }
 },
 "nbformat": 4,
 "nbformat_minor": 2
}
