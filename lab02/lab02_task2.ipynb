{
 "cells": [
  {
   "cell_type": "markdown",
   "metadata": {},
   "source": [
    "## 离群点处理"
   ]
  },
  {
   "cell_type": "code",
   "execution_count": null,
   "metadata": {},
   "outputs": [],
   "source": [
    "import pandas as pd\n",
    "import numpy as np"
   ]
  },
  {
   "cell_type": "code",
   "execution_count": null,
   "metadata": {},
   "outputs": [
    {
     "data": {
      "text/html": [
       "<div>\n",
       "<style scoped>\n",
       "    .dataframe tbody tr th:only-of-type {\n",
       "        vertical-align: middle;\n",
       "    }\n",
       "\n",
       "    .dataframe tbody tr th {\n",
       "        vertical-align: top;\n",
       "    }\n",
       "\n",
       "    .dataframe thead th {\n",
       "        text-align: right;\n",
       "    }\n",
       "</style>\n",
       "<table border=\"1\" class=\"dataframe\">\n",
       "  <thead>\n",
       "    <tr style=\"text-align: right;\">\n",
       "      <th></th>\n",
       "      <th>身高</th>\n",
       "      <th>体重</th>\n",
       "    </tr>\n",
       "  </thead>\n",
       "  <tbody>\n",
       "    <tr>\n",
       "      <th>0</th>\n",
       "      <td>171</td>\n",
       "      <td>53</td>\n",
       "    </tr>\n",
       "    <tr>\n",
       "      <th>1</th>\n",
       "      <td>167</td>\n",
       "      <td>56</td>\n",
       "    </tr>\n",
       "    <tr>\n",
       "      <th>2</th>\n",
       "      <td>250</td>\n",
       "      <td>64</td>\n",
       "    </tr>\n",
       "    <tr>\n",
       "      <th>3</th>\n",
       "      <td>154</td>\n",
       "      <td>49</td>\n",
       "    </tr>\n",
       "    <tr>\n",
       "      <th>4</th>\n",
       "      <td>169</td>\n",
       "      <td>50</td>\n",
       "    </tr>\n",
       "    <tr>\n",
       "      <th>5</th>\n",
       "      <td>175</td>\n",
       "      <td>66</td>\n",
       "    </tr>\n",
       "    <tr>\n",
       "      <th>6</th>\n",
       "      <td>163</td>\n",
       "      <td>52</td>\n",
       "    </tr>\n",
       "    <tr>\n",
       "      <th>7</th>\n",
       "      <td>152</td>\n",
       "      <td>47</td>\n",
       "    </tr>\n",
       "    <tr>\n",
       "      <th>8</th>\n",
       "      <td>172</td>\n",
       "      <td>58</td>\n",
       "    </tr>\n",
       "    <tr>\n",
       "      <th>9</th>\n",
       "      <td>160</td>\n",
       "      <td>50</td>\n",
       "    </tr>\n",
       "  </tbody>\n",
       "</table>\n",
       "</div>"
      ],
      "text/plain": [
       "    身高  体重\n",
       "0  171  53\n",
       "1  167  56\n",
       "2  250  64\n",
       "3  154  49\n",
       "4  169  50\n",
       "5  175  66\n",
       "6  163  52\n",
       "7  152  47\n",
       "8  172  58\n",
       "9  160  50"
      ]
     },
     "metadata": {},
     "output_type": "display_data"
    }
   ],
   "source": [
    "rd = pd.read_excel(\"./height_weight_outlier.xlsx\")\n",
    "rd"
   ]
  },
  {
   "cell_type": "code",
   "execution_count": null,
   "metadata": {},
   "outputs": [
    {
     "data": {
      "text/plain": [
       "array([[171,  53],\n",
       "       [167,  56],\n",
       "       [250,  64],\n",
       "       [154,  49],\n",
       "       [169,  50],\n",
       "       [175,  66],\n",
       "       [163,  52],\n",
       "       [152,  47],\n",
       "       [172,  58],\n",
       "       [160,  50]])"
      ]
     },
     "metadata": {},
     "output_type": "display_data"
    }
   ],
   "source": [
    "a = np.array(rd)\n",
    "a"
   ]
  },
  {
   "cell_type": "code",
   "execution_count": null,
   "metadata": {},
   "outputs": [
    {
     "data": {
      "text/plain": [
       "(array([120.15830262,  42.29344438]), array([226.44169738,  66.70655562]))"
      ]
     },
     "metadata": {},
     "output_type": "display_data"
    }
   ],
   "source": [
    "def three_sigma(data):\n",
    "  mu, std = np.mean(data, axis=0), np.std(data, axis=0)\n",
    "  lower, upper = mu - 2 * std, mu + 2 * std\n",
    "  return lower, upper\n",
    "\n",
    "lower, upper = three_sigma(a)\n",
    "lower, upper"
   ]
  },
  {
   "cell_type": "code",
   "execution_count": null,
   "metadata": {},
   "outputs": [
    {
     "data": {
      "text/plain": [
       "[2]"
      ]
     },
     "metadata": {},
     "output_type": "display_data"
    }
   ],
   "source": [
    "index = []\n",
    "for i in range(len(a)):\n",
    "  if np.array(a[i]< lower).any() or np.array(a[i]> upper).any():\n",
    "    index.append(i)\n",
    "\n",
    "index"
   ]
  },
  {
   "cell_type": "code",
   "execution_count": null,
   "metadata": {},
   "outputs": [
    {
     "data": {
      "image/png": "[encoded data removed]",
      "text/plain": [
       "<Figure size 640x480 with 1 Axes>"
      ]
     },
     "metadata": {},
     "output_type": "display_data"
    }
   ],
   "source": [
    "import matplotlib.pyplot as plt\n",
    "import matplotlib\n",
    "matplotlib.rc(\"font\",family='PingFang HK')\n",
    "s1 = np.delete(range(len(a)), index)\n",
    "plt.scatter(a[s1, 0], a[s1, 1], color='g', label=\"normal\")\n",
    "plt.scatter(a[index, 0], a[index, 1], color='r', label=\"outliers\")\n",
    "plt.xlabel('身高')\n",
    "plt.ylabel('体重')\n",
    "plt.legend()\n",
    "plt.show()"
   ]
  },
  {
   "cell_type": "code",
   "execution_count": null,
   "metadata": {},
   "outputs": [
    {
     "data": {
      "image/png": "[encoded data removed]",
      "text/plain": [
       "<Figure size 640x480 with 1 Axes>"
      ]
     },
     "metadata": {},
     "output_type": "display_data"
    }
   ],
   "source": [
    "a = np.delete(a, index, axis=0)\n",
    "plt.scatter(a[:, 0], a[:, 1], color='b')\n",
    "plt.xlabel('身高')\n",
    "plt.ylabel('体重')\n",
    "plt.show()"
   ]
  },
  {
   "cell_type": "markdown",
   "metadata": {},
   "source": [
    "## 箱型图判断离群点"
   ]
  },
  {
   "cell_type": "code",
   "execution_count": 1,
   "metadata": {},
   "outputs": [
    {
     "data": {
      "image/png": "[encoded data removed]",
      "text/plain": [
       "<Figure size 640x480 with 1 Axes>"
      ]
     },
     "metadata": {},
     "output_type": "display_data"
    },
    {
     "name": "stdout",
     "output_type": "stream",
     "text": [
      "离群点的索引及其具体数据：\n",
      "索引 2: 数据 [250  64]\n"
     ]
    }
   ],
   "source": [
    "import numpy as np\n",
    "import matplotlib.pyplot as plt\n",
    "import pandas as pd\n",
    "import matplotlib\n",
    "matplotlib.rc(\"font\",family='PingFang HK')\n",
    "def identify_outliers(data):\n",
    "    # 计算四分位数和IQR\n",
    "    Q1 = np.percentile(data, 25, axis=0)\n",
    "    Q3 = np.percentile(data, 75, axis=0)\n",
    "    IQR = Q3 - Q1\n",
    "\n",
    "    # 计算离群点的范围\n",
    "    lower_bound = Q1 - 1.5 * IQR\n",
    "    upper_bound = Q3 + 1.5 * IQR\n",
    "\n",
    "    # 判断每个数据点是否为离群点\n",
    "    outliers = []\n",
    "    for i in range(data.shape[0]):\n",
    "        if (data[i, 0] < lower_bound[0] or data[i, 0] > upper_bound[0]) or \\\n",
    "           (data[i, 1] < lower_bound[1] or data[i, 1] > upper_bound[1]):\n",
    "            outliers.append(i)\n",
    "\n",
    "    return outliers\n",
    "\n",
    "def plot_boxplot(data):\n",
    "\n",
    "    plt.boxplot(data)\n",
    "    plt.title(\"箱型图\")\n",
    "    plt.ylabel(\"数值\")\n",
    "    plt.grid(True)\n",
    "    plt.show()\n",
    "\n",
    "# 测试函数\n",
    "rd = pd.read_excel(\"./height_weight_outlier.xlsx\")\n",
    "rd = np.array(rd)\n",
    "outliers = identify_outliers(rd)\n",
    "plot_boxplot(rd)\n",
    "\n",
    "# 打印离群点的索引和具体数值\n",
    "print(\"离群点的索引及其具体数据：\")\n",
    "for index in outliers:\n",
    "    print(f\"索引 {index}: 数据 {rd[index]}\")"
   ]
  }
 ],
 "metadata": {
  "kernelspec": {
   "display_name": "base",
   "language": "python",
   "name": "python3"
  },
  "language_info": {
   "codemirror_mode": {
    "name": "ipython",
    "version": 3
   },
   "file_extension": ".py",
   "mimetype": "text/x-python",
   "name": "python",
   "nbconvert_exporter": "python",
   "pygments_lexer": "ipython3",
   "version": "3.11.5"
  }
 },
 "nbformat": 4,
 "nbformat_minor": 2
}
