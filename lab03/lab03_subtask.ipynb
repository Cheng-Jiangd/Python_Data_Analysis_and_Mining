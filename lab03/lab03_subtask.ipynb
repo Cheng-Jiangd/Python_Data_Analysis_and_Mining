{
 "cells": [
  {
   "cell_type": "code",
   "execution_count": 1,
   "metadata": {},
   "outputs": [],
   "source": [
    "import pandas as pd\n",
    "import numpy as np\n",
    "\n",
    "# Read the data from the CSV file\n",
    "women_data = pd.read_csv('./women.csv', index_col=0, header=0)"
   ]
  },
  {
   "cell_type": "code",
   "execution_count": 2,
   "metadata": {},
   "outputs": [
    {
     "data": {
      "text/plain": [
       "9.926006896421313e-06"
      ]
     },
     "execution_count": 2,
     "metadata": {},
     "output_type": "execute_result"
    }
   ],
   "source": [
    "import timeit\n",
    "import statsmodels.api as sm\n",
    "\n",
    "testcode = '''\n",
    "def linear_regression(X, Y):\n",
    "    # 模型训练\n",
    "    myModel = sm.OLS(Y, X)\n",
    "    results = myModel.fit()\n",
    "\n",
    "    return results\n",
    "'''\n",
    "# 数据准备\n",
    "X = sm.add_constant(women_data[\"height\"])\n",
    "Y = np.array(women_data[\"weight\"])\n",
    "\n",
    "# 计时\n",
    "timeit.timeit(stmt=testcode, number=100)"
   ]
  },
  {
   "cell_type": "code",
   "execution_count": 3,
   "metadata": {},
   "outputs": [
    {
     "data": {
      "text/plain": [
       "1.810200046747923e-05"
      ]
     },
     "execution_count": 3,
     "metadata": {},
     "output_type": "execute_result"
    }
   ],
   "source": [
    "testcode = '''\n",
    "def polynomial_regression(X, Y):\n",
    "    # 特征转换\n",
    "    X = np.column_stack((X,np.power(X,2), np.power(X,3)))\n",
    "    X_add_const = sm.add_constant(X)\n",
    "\n",
    "    # 模型训练\n",
    "    myModel_updated = sm.OLS(Y, X_add_const)\n",
    "    results_updated = myModel_updated.fit()\n",
    "    return results_updated\n",
    "'''\n",
    "\n",
    "# 数据准备\n",
    "X = women_data[[\"height\"]]\n",
    "Y = women_data[\"weight\"]\n",
    "\n",
    "# 计时\n",
    "timeit.timeit(stmt=testcode, number=100)"
   ]
  }
 ],
 "metadata": {
  "kernelspec": {
   "display_name": "base",
   "language": "python",
   "name": "python3"
  },
  "language_info": {
   "codemirror_mode": {
    "name": "ipython",
    "version": 3
   },
   "file_extension": ".py",
   "mimetype": "text/x-python",
   "name": "python",
   "nbconvert_exporter": "python",
   "pygments_lexer": "ipython3",
   "version": "3.11.5"
  }
 },
 "nbformat": 4,
 "nbformat_minor": 2
}
